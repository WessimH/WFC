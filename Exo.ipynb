{
 "cells": [
  {
   "cell_type": "code",
   "execution_count": 11,
   "metadata": {},
   "outputs": [],
   "source": [
    "import turtle\n",
    "import numpy as np\n"
   ]
  },
  {
   "cell_type": "code",
   "execution_count": 72,
   "metadata": {},
   "outputs": [
    {
     "name": "stdout",
     "output_type": "stream",
     "text": [
      "⬛ ⬛\n",
      "⬛ ⬛ \n",
      "⬛ ⬛⬛ ⬛\n",
      "⬛ ⬛ \n",
      "⬛ ⬛\n"
     ]
    }
   ],
   "source": [
    "import numpy as np\n",
    "WAC = ['⬛⬛⬛\\n \\n⬛⬛⬛',\n",
    "       '⬛ ⬛\\n⬛ ⬛ \\n⬛ ⬛','⬛ ⬛\\n   \\n⬛ ⬛','\\n⬛⬛⬛\\n⬛\\n⬛⬛⬛']\n",
    "\n",
    "print(WAC[np.random.randint(0,4)]+WAC[np.random.randint(0,4)])\n",
    "s=1\n",
    "\n",
    "t = np.random.randint(0,5)\n"
   ]
  },
  {
   "cell_type": "code",
   "execution_count": 11,
   "metadata": {},
   "outputs": [
    {
     "name": "stdout",
     "output_type": "stream",
     "text": [
      "⬛⬛⬛\n",
      "       ⬛⬛⬛\n",
      "⬛⬛⬛\n",
      "etat 2 \n",
      "⬛ ⬛\n",
      "⬛ ⬛ \n",
      "⬛ ⬛\n",
      "etat 3\n",
      "⬛ ⬛\n",
      "   \n",
      "⬛ ⬛\n",
      "etat 4 \n",
      "⬛ ⬛\n",
      "⬛\n",
      "⬛⬛⬛\n",
      "etat 5\n",
      " \n"
     ]
    }
   ],
   "source": [
    "\"\"\"\n",
    "etat 1\n",
    "⬛⬛⬛\n",
    "   \n",
    "⬛⬛⬛\n",
    "etat 2 \n",
    "⬛ ⬛\n",
    "⬛ ⬛\n",
    "⬛ ⬛\n",
    "etat 3\n",
    "⬛ ⬛\n",
    "\n",
    "⬛ ⬛\n",
    "\n",
    "⬛ ⬛\n",
    "⬛  \n",
    "⬛ ⬛\n",
    "\n",
    "etat 4\n",
    "⬛⬛⬛\n",
    "⬛\n",
    "⬛⬛⬛\n",
    "etat 5\n",
    "⬛⬛⬛\n",
    "⬛   ⬛\n",
    "\n",
    "\"\"\"\n",
    "print(\"⬛⬛⬛\\n \\n⬛⬛⬛\")\n",
    "print(\"etat 2 \\n⬛ ⬛\\n⬛ ⬛ \\n⬛ ⬛\")\n",
    "print(\"etat 3\\n⬛ ⬛\\n   \\n⬛ ⬛\")\n",
    "print(\"etat 4 \\n⬛⬛⬛\\n⬛\\n⬛⬛⬛\")\n",
    "\n"
   ]
  }
 ],
 "metadata": {
  "kernelspec": {
   "display_name": "Python 3",
   "language": "python",
   "name": "python3"
  },
  "language_info": {
   "codemirror_mode": {
    "name": "ipython",
    "version": 3
   },
   "file_extension": ".py",
   "mimetype": "text/x-python",
   "name": "python",
   "nbconvert_exporter": "python",
   "pygments_lexer": "ipython3",
   "version": "3.11.1"
  },
  "orig_nbformat": 4
 },
 "nbformat": 4,
 "nbformat_minor": 2
}
